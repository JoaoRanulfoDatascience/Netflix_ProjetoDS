{
 "cells": [
  {
   "cell_type": "markdown",
   "id": "98120b8d",
   "metadata": {},
   "source": [
    "# Seja muito bem vindo(a), vamos explorar essa base comigo !?"
   ]
  },
  {
   "cell_type": "markdown",
   "id": "a3e57f74",
   "metadata": {},
   "source": [
    "### Seguiremos de forma bem detalhada uma análise de dados exploratória (EDA), buscaremos por insights nessa jornada!\n"
   ]
  },
  {
   "cell_type": "code",
   "execution_count": 33,
   "id": "421cffde",
   "metadata": {},
   "outputs": [
    {
     "data": {
      "text/html": [
       "<div>\n",
       "<style scoped>\n",
       "    .dataframe tbody tr th:only-of-type {\n",
       "        vertical-align: middle;\n",
       "    }\n",
       "\n",
       "    .dataframe tbody tr th {\n",
       "        vertical-align: top;\n",
       "    }\n",
       "\n",
       "    .dataframe thead th {\n",
       "        text-align: right;\n",
       "    }\n",
       "</style>\n",
       "<table border=\"1\" class=\"dataframe\">\n",
       "  <thead>\n",
       "    <tr style=\"text-align: right;\">\n",
       "      <th></th>\n",
       "      <th>title</th>\n",
       "      <th>type</th>\n",
       "      <th>genres</th>\n",
       "      <th>releaseYear</th>\n",
       "      <th>imdbId</th>\n",
       "      <th>imdbAverageRating</th>\n",
       "      <th>imdbNumVotes</th>\n",
       "      <th>availableCountries</th>\n",
       "    </tr>\n",
       "  </thead>\n",
       "  <tbody>\n",
       "    <tr>\n",
       "      <th>0</th>\n",
       "      <td>Ariel</td>\n",
       "      <td>movie</td>\n",
       "      <td>Comedy, Crime, Drama</td>\n",
       "      <td>1988.0</td>\n",
       "      <td>tt0094675</td>\n",
       "      <td>7.4</td>\n",
       "      <td>9234.0</td>\n",
       "      <td>NaN</td>\n",
       "    </tr>\n",
       "    <tr>\n",
       "      <th>1</th>\n",
       "      <td>Shadows in Paradise</td>\n",
       "      <td>movie</td>\n",
       "      <td>Comedy, Drama, Music</td>\n",
       "      <td>1986.0</td>\n",
       "      <td>tt0092149</td>\n",
       "      <td>7.4</td>\n",
       "      <td>8070.0</td>\n",
       "      <td>NaN</td>\n",
       "    </tr>\n",
       "    <tr>\n",
       "      <th>2</th>\n",
       "      <td>Forrest Gump</td>\n",
       "      <td>movie</td>\n",
       "      <td>Drama, Romance</td>\n",
       "      <td>1994.0</td>\n",
       "      <td>tt0109830</td>\n",
       "      <td>8.8</td>\n",
       "      <td>2390234.0</td>\n",
       "      <td>NaN</td>\n",
       "    </tr>\n",
       "    <tr>\n",
       "      <th>3</th>\n",
       "      <td>American Beauty</td>\n",
       "      <td>movie</td>\n",
       "      <td>Drama</td>\n",
       "      <td>1999.0</td>\n",
       "      <td>tt0169547</td>\n",
       "      <td>8.3</td>\n",
       "      <td>1252312.0</td>\n",
       "      <td>NaN</td>\n",
       "    </tr>\n",
       "    <tr>\n",
       "      <th>4</th>\n",
       "      <td>The Fifth Element</td>\n",
       "      <td>movie</td>\n",
       "      <td>Action, Adventure, Sci-Fi</td>\n",
       "      <td>1997.0</td>\n",
       "      <td>tt0119116</td>\n",
       "      <td>7.6</td>\n",
       "      <td>528793.0</td>\n",
       "      <td>NaN</td>\n",
       "    </tr>\n",
       "  </tbody>\n",
       "</table>\n",
       "</div>"
      ],
      "text/plain": [
       "                 title   type                     genres  releaseYear  \\\n",
       "0                Ariel  movie       Comedy, Crime, Drama       1988.0   \n",
       "1  Shadows in Paradise  movie       Comedy, Drama, Music       1986.0   \n",
       "2         Forrest Gump  movie             Drama, Romance       1994.0   \n",
       "3      American Beauty  movie                      Drama       1999.0   \n",
       "4    The Fifth Element  movie  Action, Adventure, Sci-Fi       1997.0   \n",
       "\n",
       "      imdbId  imdbAverageRating  imdbNumVotes availableCountries  \n",
       "0  tt0094675                7.4        9234.0                NaN  \n",
       "1  tt0092149                7.4        8070.0                NaN  \n",
       "2  tt0109830                8.8     2390234.0                NaN  \n",
       "3  tt0169547                8.3     1252312.0                NaN  \n",
       "4  tt0119116                7.6      528793.0                NaN  "
      ]
     },
     "execution_count": 33,
     "metadata": {},
     "output_type": "execute_result"
    }
   ],
   "source": [
    "# 1. Importar bibliotecas e definir aliases:\n",
    "import pandas as pd\n",
    "import numpy as np\n",
    "import matplotlib.pyplot as plt\n",
    "import seaborn as sns\n",
    "\n",
    "# 2 - Carregar dataset na variável 'df':\n",
    "df = pd.read_csv(\"netflix_titles.csv\")\n",
    "\n",
    "# 3 - Visualizar 5 primeiras linhas :\n",
    "df.head()"
   ]
  },
  {
   "cell_type": "markdown",
   "id": "75603ff6",
   "metadata": {},
   "source": [
    "Vizualizando as primeiras linhas podemos, perceber que temos nomes, datas"
   ]
  },
  {
   "cell_type": "code",
   "execution_count": 34,
   "id": "ccdd1434",
   "metadata": {},
   "outputs": [
    {
     "data": {
      "text/plain": [
       "Index(['title', 'type', 'genres', 'releaseYear', 'imdbId', 'imdbAverageRating',\n",
       "       'imdbNumVotes', 'availableCountries'],\n",
       "      dtype='object')"
      ]
     },
     "execution_count": 34,
     "metadata": {},
     "output_type": "execute_result"
    }
   ],
   "source": [
    "# 4 - Vizualizar as colunas:\n",
    "df.columns"
   ]
  },
  {
   "cell_type": "code",
   "execution_count": null,
   "id": "b0311f3d",
   "metadata": {},
   "outputs": [],
   "source": []
  }
 ],
 "metadata": {
  "kernelspec": {
   "display_name": "venv",
   "language": "python",
   "name": "python3"
  },
  "language_info": {
   "codemirror_mode": {
    "name": "ipython",
    "version": 3
   },
   "file_extension": ".py",
   "mimetype": "text/x-python",
   "name": "python",
   "nbconvert_exporter": "python",
   "pygments_lexer": "ipython3",
   "version": "3.13.3"
  }
 },
 "nbformat": 4,
 "nbformat_minor": 5
}
