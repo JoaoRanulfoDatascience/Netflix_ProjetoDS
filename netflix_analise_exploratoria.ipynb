{
 "cells": [
  {
   "cell_type": "markdown",
   "id": "a3e57f74",
   "metadata": {},
   "source": [
    "### **Caro leitor(ra) seja muito bem vindo(a), vamos explorar essa base comigo !?**\n",
    "### `Importando Bibliotecas e Carregando o Dataset`\n",
    "---\n",
    "\n",
    "Seguiremos de forma bem detalhada uma análise de dados exploratória (**EDA**), buscaremos por insights nessa jornada!\n",
    "\n",
    "No código abaixo importa-se as bibliotecas, carrega-se o dataset e exibe-se as primeiras 5 linhas :\n",
    "\n",
    "Com o Data frame ja carregado e exibido, consegue-se vizualisar previamente os dados a serem tratados e manipulados, em sequência um passo muito importante, discernir melhor as colunas!"
   ]
  },
  {
   "cell_type": "code",
   "execution_count": 1,
   "id": "421cffde",
   "metadata": {},
   "outputs": [
    {
     "data": {
      "text/html": [
       "<div>\n",
       "<style scoped>\n",
       "    .dataframe tbody tr th:only-of-type {\n",
       "        vertical-align: middle;\n",
       "    }\n",
       "\n",
       "    .dataframe tbody tr th {\n",
       "        vertical-align: top;\n",
       "    }\n",
       "\n",
       "    .dataframe thead th {\n",
       "        text-align: right;\n",
       "    }\n",
       "</style>\n",
       "<table border=\"1\" class=\"dataframe\">\n",
       "  <thead>\n",
       "    <tr style=\"text-align: right;\">\n",
       "      <th></th>\n",
       "      <th>show_id</th>\n",
       "      <th>type</th>\n",
       "      <th>title</th>\n",
       "      <th>director</th>\n",
       "      <th>cast</th>\n",
       "      <th>country</th>\n",
       "      <th>date_added</th>\n",
       "      <th>release_year</th>\n",
       "      <th>duration</th>\n",
       "      <th>description</th>\n",
       "      <th>genre</th>\n",
       "    </tr>\n",
       "  </thead>\n",
       "  <tbody>\n",
       "    <tr>\n",
       "      <th>0</th>\n",
       "      <td>s2</td>\n",
       "      <td>Movie</td>\n",
       "      <td>7:19</td>\n",
       "      <td>Jorge Michel Grau</td>\n",
       "      <td>Demián Bichir, Héctor Bonilla, Oscar Serrano, ...</td>\n",
       "      <td>Mexico</td>\n",
       "      <td>December 23, 2016</td>\n",
       "      <td>2016</td>\n",
       "      <td>93</td>\n",
       "      <td>After a devastating earthquake hits Mexico Cit...</td>\n",
       "      <td>Dramas</td>\n",
       "    </tr>\n",
       "    <tr>\n",
       "      <th>1</th>\n",
       "      <td>s3</td>\n",
       "      <td>Movie</td>\n",
       "      <td>23:59</td>\n",
       "      <td>Gilbert Chan</td>\n",
       "      <td>Tedd Chan, Stella Chung, Henley Hii, Lawrence ...</td>\n",
       "      <td>Singapore</td>\n",
       "      <td>December 20, 2018</td>\n",
       "      <td>2011</td>\n",
       "      <td>78</td>\n",
       "      <td>When an army recruit is found dead, his fellow...</td>\n",
       "      <td>Horror Movies</td>\n",
       "    </tr>\n",
       "    <tr>\n",
       "      <th>2</th>\n",
       "      <td>s4</td>\n",
       "      <td>Movie</td>\n",
       "      <td>9</td>\n",
       "      <td>Shane Acker</td>\n",
       "      <td>Elijah Wood, John C. Reilly, Jennifer Connelly...</td>\n",
       "      <td>United States</td>\n",
       "      <td>November 16, 2017</td>\n",
       "      <td>2009</td>\n",
       "      <td>80</td>\n",
       "      <td>In a postapocalyptic world, rag-doll robots hi...</td>\n",
       "      <td>Action</td>\n",
       "    </tr>\n",
       "    <tr>\n",
       "      <th>3</th>\n",
       "      <td>s5</td>\n",
       "      <td>Movie</td>\n",
       "      <td>21</td>\n",
       "      <td>Robert Luketic</td>\n",
       "      <td>Jim Sturgess, Kevin Spacey, Kate Bosworth, Aar...</td>\n",
       "      <td>United States</td>\n",
       "      <td>January 1, 2020</td>\n",
       "      <td>2008</td>\n",
       "      <td>123</td>\n",
       "      <td>A brilliant group of students become card-coun...</td>\n",
       "      <td>Dramas</td>\n",
       "    </tr>\n",
       "    <tr>\n",
       "      <th>4</th>\n",
       "      <td>s6</td>\n",
       "      <td>TV Show</td>\n",
       "      <td>46</td>\n",
       "      <td>Serdar Akar</td>\n",
       "      <td>Erdal Beşikçioğlu, Yasemin Allen, Melis Birkan...</td>\n",
       "      <td>Turkey</td>\n",
       "      <td>July 1, 2017</td>\n",
       "      <td>2016</td>\n",
       "      <td>1</td>\n",
       "      <td>A genetics professor experiments with a treatm...</td>\n",
       "      <td>International TV</td>\n",
       "    </tr>\n",
       "  </tbody>\n",
       "</table>\n",
       "</div>"
      ],
      "text/plain": [
       "  show_id     type  title           director  \\\n",
       "0      s2    Movie   7:19  Jorge Michel Grau   \n",
       "1      s3    Movie  23:59       Gilbert Chan   \n",
       "2      s4    Movie      9        Shane Acker   \n",
       "3      s5    Movie     21     Robert Luketic   \n",
       "4      s6  TV Show     46        Serdar Akar   \n",
       "\n",
       "                                                cast        country  \\\n",
       "0  Demián Bichir, Héctor Bonilla, Oscar Serrano, ...         Mexico   \n",
       "1  Tedd Chan, Stella Chung, Henley Hii, Lawrence ...      Singapore   \n",
       "2  Elijah Wood, John C. Reilly, Jennifer Connelly...  United States   \n",
       "3  Jim Sturgess, Kevin Spacey, Kate Bosworth, Aar...  United States   \n",
       "4  Erdal Beşikçioğlu, Yasemin Allen, Melis Birkan...         Turkey   \n",
       "\n",
       "          date_added  release_year  duration  \\\n",
       "0  December 23, 2016          2016        93   \n",
       "1  December 20, 2018          2011        78   \n",
       "2  November 16, 2017          2009        80   \n",
       "3    January 1, 2020          2008       123   \n",
       "4       July 1, 2017          2016         1   \n",
       "\n",
       "                                         description             genre  \n",
       "0  After a devastating earthquake hits Mexico Cit...            Dramas  \n",
       "1  When an army recruit is found dead, his fellow...     Horror Movies  \n",
       "2  In a postapocalyptic world, rag-doll robots hi...            Action  \n",
       "3  A brilliant group of students become card-coun...            Dramas  \n",
       "4  A genetics professor experiments with a treatm...  International TV  "
      ]
     },
     "execution_count": 1,
     "metadata": {},
     "output_type": "execute_result"
    }
   ],
   "source": [
    "# 1. Importar bibliotecas e definir aliases:\n",
    "import pandas as pd\n",
    "import numpy as np\n",
    "import matplotlib.pyplot as plt\n",
    "import seaborn as sns\n",
    "\n",
    "# 2 - Carregar o dataset na variável 'df':\n",
    "df = pd.read_csv(\"netflix_data.csv\", header=0)\n",
    "\n",
    "# 3 - Visualizar 5 primeiras linhas :\n",
    "df.head()"
   ]
  },
  {
   "cell_type": "markdown",
   "id": "75603ff6",
   "metadata": {},
   "source": [
    "###  `Entendimento Inicial dos Dados`\n",
    "---\n",
    "\n",
    "Compreender a estrutura e o conteúdo do *DataFrame* é uma etapa essencial para uma análise exploratória eficaz. Ter uma boa visão de negócio é uma habilidade fundamental para engenheiros, cientistas e analistas de dados, mas, é de suma importância lembrar que **viés cognitivo** pode influenciar interpretações. \n",
    "\n",
    "Por isso, é crucial deixar que os próprios dados guiem as decisões analíticas. Toda EDA deve ser construída com base em evidências extraídas diretamente do dataset, evitando suposições não fundamentadas.\n",
    "A partir deste ponto, será feita uma investigação detalhada sobre colunas, tipos de dados, valores nulos, estatísticas básicas e possíveis padrões iniciais."
   ]
  },
  {
   "cell_type": "code",
   "execution_count": 2,
   "id": "ccdd1434",
   "metadata": {},
   "outputs": [
    {
     "data": {
      "text/plain": [
       "Index(['show_id', 'type', 'title', 'director', 'cast', 'country', 'date_added',\n",
       "       'release_year', 'duration', 'description', 'genre'],\n",
       "      dtype='object')"
      ]
     },
     "execution_count": 2,
     "metadata": {},
     "output_type": "execute_result"
    }
   ],
   "source": [
    "# 4 - Vizualizar as colunas:\n",
    "df.columns"
   ]
  },
  {
   "cell_type": "markdown",
   "id": "743956b8",
   "metadata": {},
   "source": [
    "### `Conteúdo das Colunas do Data Frame`\n",
    "--- \n",
    "\n",
    "```\n",
    "show_id:      Um identificador único para cada filme ou série.\n",
    "type:         Indica se é um filme ou série. \n",
    "title:        O título do filme ou série. \n",
    "director:     O diretor do filme ou série. \n",
    "cast:         Os atores ou atrizes que participaram. \n",
    "country:      O país onde o filme ou série foi produzido.\n",
    "date_added:   Quando o filme ou série foi adicionado à plataforma. \n",
    "release_year: O ano de lançamento do filme ou série. \n",
    "duration:     A duração do filme ou o número de temporadas de uma série. (Observação: o valor desta coluna depende do valor da coluna type)\n",
    "description:  Uma breve descrição ou sinopse do filme ou série. \n",
    "genre:        O gênero do filme ou série (ex: ação, comédia, drama).\n",
    "```"
   ]
  },
  {
   "cell_type": "markdown",
   "id": "8a0cb161",
   "metadata": {},
   "source": [
    "### `Tipos de Dados do Dataset`\n",
    "---"
   ]
  },
  {
   "cell_type": "markdown",
   "id": "7b19d5f7",
   "metadata": {},
   "source": [
    "Verificando tipos de dados, informações gerais e se o Data Frame contém valores nulos:"
   ]
  },
  {
   "cell_type": "code",
   "execution_count": 3,
   "id": "f96d2329",
   "metadata": {},
   "outputs": [
    {
     "name": "stdout",
     "output_type": "stream",
     "text": [
      "<class 'pandas.core.frame.DataFrame'>\n",
      "RangeIndex: 4812 entries, 0 to 4811\n",
      "Data columns (total 11 columns):\n",
      " #   Column        Non-Null Count  Dtype \n",
      "---  ------        --------------  ----- \n",
      " 0   show_id       4812 non-null   object\n",
      " 1   type          4812 non-null   object\n",
      " 2   title         4812 non-null   object\n",
      " 3   director      4812 non-null   object\n",
      " 4   cast          4812 non-null   object\n",
      " 5   country       4812 non-null   object\n",
      " 6   date_added    4812 non-null   object\n",
      " 7   release_year  4812 non-null   int64 \n",
      " 8   duration      4812 non-null   int64 \n",
      " 9   description   4812 non-null   object\n",
      " 10  genre         4812 non-null   object\n",
      "dtypes: int64(2), object(9)\n",
      "memory usage: 413.7+ KB\n"
     ]
    }
   ],
   "source": [
    "# 5 - Verificar tipos de dados e informações gerais do Data Frame\n",
    "df.info()"
   ]
  },
  {
   "cell_type": "markdown",
   "id": "922f62f4",
   "metadata": {},
   "source": [
    "✅Conforme a saída, duas colunas são do tipo inteiro ```int64``` e 9 colunas são do tipo ```object```, o Data frame não contém valores nulos, Isso simplifica a parte de limpeza dos dados.\n",
    "\n",
    "✅As colunas ```release_year``` e ```duration``` já estão como ```int64 (números inteiros)```, o que é apropriado.\n",
    "\n",
    "✅A coluna ```data_added``` está como ```object``` o que para o **pandas** significa \"texto\"```(string)```. Para fazer análises temporais(como por exemplo: \"quantos filmes foram adicionados por ano?\"), precisamos converter essa coluna para um formato de data ```(datatime)```.\n",
    "\n",
    "\n",
    "### `Convertendo tipos de dados, Tratando e limpado (Data Cleaning)`\n",
    "---\n",
    "\n",
    "Realizando a primeira tarefa de pré-processamento de dados, converte-se no código abaixo a coluna ```data_added``` para ```datatime``` é checado se o código funcionou utilizando a mesma função anterior ```.info()```\n",
    "\n",
    "\n",
    "Em primeira instância o código :\n",
    "\n",
    "---\n",
    "\n",
    "```df['date_added'] = pd.to_datetime(df['date_added'])```\n",
    "\n",
    "retornou: ***```_________________ValueError_______________```***\n",
    "\n",
    "---\n",
    "\n",
    "***E o motivo: havia \"sujeira\" nos dados na coluna ```date_added``` foi encontrado um \" \" (espaço em branco) antes da data ```\" August 4, 2017\"```\n",
    "O Pandas olhou as primeiras datas do arquivo deduziu que o formato era \"Nome do Mês, Dia, Ano\" e tentou aplicar essa regra a todas as outras. Quando ele chegou na linha 161 a regra quebrou por causa do espaço extra no começo por isso a saída ValueError.***\n",
    "\n",
    "---\n",
    "Próxima tarefa remover os **espaços** extras no início e fim das datas do data frame, para fazer a conversão:\n"
   ]
  },
  {
   "cell_type": "code",
   "execution_count": 4,
   "id": "19754da1",
   "metadata": {},
   "outputs": [
    {
     "name": "stdout",
     "output_type": "stream",
     "text": [
      "datetime64[ns]\n"
     ]
    }
   ],
   "source": [
    "# 6 - Removendo espaços antes e depois da coluna\n",
    "df['date_added'] = df['date_added'].str.strip()\n",
    "\n",
    "# 7 - Converter a coluna data_added para datatime\n",
    "df['date_added'] = pd.to_datetime(df['date_added'])\n",
    "\n",
    "# 8 - Ver o tipo de dado da coluna\n",
    "print(df['date_added'].dtype)"
   ]
  },
  {
   "cell_type": "markdown",
   "id": "77d06dd5",
   "metadata": {},
   "source": [
    "Conversão concluída com Sucesso, e checada ! Isso significa que a fase de Limpeza de Dados (Data Cleaning) está praticamente concluída!\n",
    "\n",
    "Próximo passo verificar se ainda há valores **Nulos** no Data Frame:"
   ]
  },
  {
   "cell_type": "code",
   "execution_count": 5,
   "id": "a2342bd2",
   "metadata": {},
   "outputs": [
    {
     "data": {
      "text/plain": [
       "show_id         0\n",
       "type            0\n",
       "title           0\n",
       "director        0\n",
       "cast            0\n",
       "country         0\n",
       "date_added      0\n",
       "release_year    0\n",
       "duration        0\n",
       "description     0\n",
       "genre           0\n",
       "dtype: int64"
      ]
     },
     "execution_count": 5,
     "metadata": {},
     "output_type": "execute_result"
    }
   ],
   "source": [
    "# Verificando a situação dos valores nulos após a limpeza da coluna 'date_added'\n",
    "df.isnull().sum()"
   ]
  },
  {
   "cell_type": "markdown",
   "id": "5eeeb0c9",
   "metadata": {},
   "source": [
    "Ótimo o Data frame não contém mais valores **Nulos**."
   ]
  },
  {
   "cell_type": "code",
   "execution_count": null,
   "id": "e1135809",
   "metadata": {},
   "outputs": [],
   "source": []
  }
 ],
 "metadata": {
  "kernelspec": {
   "display_name": "venv",
   "language": "python",
   "name": "python3"
  },
  "language_info": {
   "codemirror_mode": {
    "name": "ipython",
    "version": 3
   },
   "file_extension": ".py",
   "mimetype": "text/x-python",
   "name": "python",
   "nbconvert_exporter": "python",
   "pygments_lexer": "ipython3",
   "version": "3.13.3"
  }
 },
 "nbformat": 4,
 "nbformat_minor": 5
}
